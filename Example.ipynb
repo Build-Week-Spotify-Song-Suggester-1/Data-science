{
  "nbformat": 4,
  "nbformat_minor": 0,
  "metadata": {
    "colab": {
      "name": "Example.ipynb",
      "provenance": [],
      "collapsed_sections": []
    },
    "kernelspec": {
      "name": "python3",
      "display_name": "Python 3"
    }
  },
  "cells": [
    {
      "cell_type": "code",
      "metadata": {
        "id": "Pr5hpnCv5qnZ",
        "colab_type": "code",
        "colab": {}
      },
      "source": [
        "# Import Libraries\n",
        "\n",
        "from sklearn.neighbors import NearestNeighbors\n",
        "import pandas as pd\n",
        "import numpy as np"
      ],
      "execution_count": 0,
      "outputs": []
    },
    {
      "cell_type": "code",
      "metadata": {
        "id": "SSyUJuJ35vtP",
        "colab_type": "code",
        "colab": {}
      },
      "source": [
        "# Load Music DataFrame\n",
        "\n",
        "df = pd.read_csv(\"https://raw.githubusercontent.com/Build-Week-Spotify-Song-Suggester-1/Data-science/master/MusicWithGenresFiltered.csv\")"
      ],
      "execution_count": 0,
      "outputs": []
    },
    {
      "cell_type": "code",
      "metadata": {
        "id": "JzjtD4-K59Y8",
        "colab_type": "code",
        "colab": {}
      },
      "source": [
        "# Main Function\n",
        "\n",
        "def process_input(song_id):\n",
        "    c = [\"duration_ms\", \"index\", \"genre\", \"artist_name\", \"track_id\", \"track_name\", \"key\", \"mode\"] # Columns to Omit\n",
        "\n",
        "    song = df[df[\"track_id\"] == song_id].iloc[0] # Get Song\n",
        "\n",
        "    df_selected = df.copy()\n",
        "    if not pd.isnull(song[\"genre\"]): # If genre, set subset to only genre\n",
        "        df_selected = df[df[\"genre\"] == song[\"genre\"]]\n",
        "\n",
        "    nn = NearestNeighbors(n_neighbors=30, algorithm=\"kd_tree\") # Nearest Neighbor Model\n",
        "    nn.fit(df_selected.drop(columns=c))\n",
        "\n",
        "    song = song.drop(index=c)\n",
        "    song = np.array(song).reshape(1, -1)\n",
        "    return df_selected.iloc[nn.kneighbors(song)[1][0][1:]].to_json(orient=\"records\") # Return results\n"
      ],
      "execution_count": 0,
      "outputs": []
    },
    {
      "cell_type": "code",
      "metadata": {
        "id": "ZKpcdA136dO9",
        "colab_type": "code",
        "colab": {
          "base_uri": "https://localhost:8080/",
          "height": 55
        },
        "outputId": "b5dce020-b6b8-4b29-df7a-89787767c93c"
      },
      "source": [
        "results = process_input(\"6VjBxj5OhlHqL4h5qwo6gL\")\n",
        "print(results)"
      ],
      "execution_count": 18,
      "outputs": [
        {
          "output_type": "stream",
          "text": [
            "[{\"index\":37134,\"artist_name\":\"Moby\",\"track_id\":\"3UigcTkkcvBLnq6GVCjE3i\",\"track_name\":\"Like a Motherless Child - Broken Places Remix\",\"acousticness\":0.00176,\"danceability\":0.573,\"duration_ms\":349747,\"energy\":0.858,\"instrumentalness\":0.301,\"key\":2,\"liveness\":0.208,\"loudness\":-6.335,\"mode\":1,\"speechiness\":0.0497,\"tempo\":101.984,\"time_signature\":4,\"valence\":0.241,\"popularity\":27,\"genre\":\"electronic\"},{\"index\":78692,\"artist_name\":\"Heiakim\",\"track_id\":\"09yCd9WnaHPSzZyOBjl1p8\",\"track_name\":\"Raindrop\",\"acousticness\":0.705,\"danceability\":0.668,\"duration_ms\":189571,\"energy\":0.795,\"instrumentalness\":0.632,\"key\":7,\"liveness\":0.145,\"loudness\":-4.045,\"mode\":1,\"speechiness\":0.0354,\"tempo\":100.058,\"time_signature\":4,\"valence\":0.671,\"popularity\":27,\"genre\":\"electronic\"},{\"index\":72105,\"artist_name\":\"Steam Phunk\",\"track_id\":\"14S7ZaTwaOIO0pFJaF68gF\",\"track_name\":\"Hometown\",\"acousticness\":0.0523,\"danceability\":0.771,\"duration_ms\":179998,\"energy\":0.542,\"instrumentalness\":0.00000938,\"key\":0,\"liveness\":0.105,\"loudness\":-5.748,\"mode\":1,\"speechiness\":0.0493,\"tempo\":100.01,\"time_signature\":4,\"valence\":0.3,\"popularity\":24,\"genre\":\"electronic\"},{\"index\":107946,\"artist_name\":\"Vitalic\",\"track_id\":\"5URzs97rXMN6uWK2XJdkiH\",\"track_name\":\"El Viaje\",\"acousticness\":0.271,\"danceability\":0.773,\"duration_ms\":94560,\"energy\":0.844,\"instrumentalness\":0.839,\"key\":0,\"liveness\":0.134,\"loudness\":-5.57,\"mode\":1,\"speechiness\":0.0512,\"tempo\":99.996,\"time_signature\":4,\"valence\":0.701,\"popularity\":24,\"genre\":\"electronic\"},{\"index\":37118,\"artist_name\":\"Moby\",\"track_id\":\"2ULxyIwSLAV2UhGRWfijd1\",\"track_name\":\"Like A Motherless Child\",\"acousticness\":0.0691,\"danceability\":0.667,\"duration_ms\":277053,\"energy\":0.901,\"instrumentalness\":0.876,\"key\":4,\"liveness\":0.0981,\"loudness\":-5.375,\"mode\":0,\"speechiness\":0.206,\"tempo\":102.018,\"time_signature\":4,\"valence\":0.136,\"popularity\":24,\"genre\":\"electronic\"},{\"index\":63495,\"artist_name\":\"CloZee\",\"track_id\":\"24gknYojCYPnsOtcfhjLIT\",\"track_name\":\"Secret Place - Megan Hamilton Remix\",\"acousticness\":0.25,\"danceability\":0.719,\"duration_ms\":278400,\"energy\":0.71,\"instrumentalness\":0.18,\"key\":0,\"liveness\":0.109,\"loudness\":-7.607,\"mode\":0,\"speechiness\":0.0433,\"tempo\":100.003,\"time_signature\":4,\"valence\":0.0478,\"popularity\":25,\"genre\":\"electronic\"},{\"index\":13651,\"artist_name\":\"South of Royal\",\"track_id\":\"4U0N1ymibrPvvOj1aCX4LI\",\"track_name\":\"All Hail the Power\",\"acousticness\":0.00389,\"danceability\":0.635,\"duration_ms\":180992,\"energy\":0.719,\"instrumentalness\":0.00012,\"key\":1,\"liveness\":0.0717,\"loudness\":-6.991,\"mode\":0,\"speechiness\":0.0364,\"tempo\":102.041,\"time_signature\":4,\"valence\":0.228,\"popularity\":28,\"genre\":\"electronic\"},{\"index\":33074,\"artist_name\":\"Manic Focus\",\"track_id\":\"6hf4i4t8wYgrIzinE0yX7z\",\"track_name\":\"Whistle Kids (Manic Focus Remix)\",\"acousticness\":0.428,\"danceability\":0.731,\"duration_ms\":235200,\"energy\":0.675,\"instrumentalness\":0.00338,\"key\":4,\"liveness\":0.122,\"loudness\":-7.049,\"mode\":1,\"speechiness\":0.037,\"tempo\":99.982,\"time_signature\":4,\"valence\":0.261,\"popularity\":28,\"genre\":\"electronic\"},{\"index\":34035,\"artist_name\":\"Lucian\",\"track_id\":\"47gfDkSdkclbl9qrS39kdm\",\"track_name\":\"Deja Vu (feat. Philosofie)\",\"acousticness\":0.348,\"danceability\":0.586,\"duration_ms\":177130,\"energy\":0.82,\"instrumentalness\":0.0,\"key\":8,\"liveness\":0.147,\"loudness\":-2.911,\"mode\":1,\"speechiness\":0.19,\"tempo\":99.924,\"time_signature\":4,\"valence\":0.438,\"popularity\":26,\"genre\":\"electronic\"},{\"index\":63496,\"artist_name\":\"CloZee\",\"track_id\":\"6OGo5KibMJPYPFgpxhHMlW\",\"track_name\":\"Lonely Island - LeSage Remix\",\"acousticness\":0.00663,\"danceability\":0.281,\"duration_ms\":204900,\"energy\":0.677,\"instrumentalness\":0.0205,\"key\":4,\"liveness\":0.0755,\"loudness\":-7.252,\"mode\":0,\"speechiness\":0.0472,\"tempo\":100.001,\"time_signature\":4,\"valence\":0.0359,\"popularity\":24,\"genre\":\"electronic\"},{\"index\":95230,\"artist_name\":\"Le P\",\"track_id\":\"1QNdnQnHTnfyUAUHHmixBb\",\"track_name\":\"Low\",\"acousticness\":0.267,\"danceability\":0.681,\"duration_ms\":210546,\"energy\":0.752,\"instrumentalness\":0.00566,\"key\":4,\"liveness\":0.116,\"loudness\":-6.085,\"mode\":1,\"speechiness\":0.073,\"tempo\":98.839,\"time_signature\":4,\"valence\":0.376,\"popularity\":24,\"genre\":\"electronic\"},{\"index\":93608,\"artist_name\":\"Klave\",\"track_id\":\"4RocjFSYkHXZvS0YRk4I9r\",\"track_name\":\"Give Me Love\",\"acousticness\":0.0291,\"danceability\":0.729,\"duration_ms\":183446,\"energy\":0.862,\"instrumentalness\":0.00284,\"key\":1,\"liveness\":0.342,\"loudness\":-5.158,\"mode\":0,\"speechiness\":0.0588,\"tempo\":100.981,\"time_signature\":4,\"valence\":0.612,\"popularity\":29,\"genre\":\"electronic\"},{\"index\":78308,\"artist_name\":\"Dabeull\",\"track_id\":\"3BTf13bno5hPBgy4jh4sVp\",\"track_name\":\"Ride\",\"acousticness\":0.181,\"danceability\":0.705,\"duration_ms\":267537,\"energy\":0.881,\"instrumentalness\":0.000433,\"key\":5,\"liveness\":0.105,\"loudness\":-5.765,\"mode\":0,\"speechiness\":0.0498,\"tempo\":99.987,\"time_signature\":4,\"valence\":0.663,\"popularity\":23,\"genre\":\"electronic\"},{\"index\":41594,\"artist_name\":\"WATCH THE DUCK\",\"track_id\":\"1TCNWVzISKzjIoOWYuDtDC\",\"track_name\":\"Friends Only\",\"acousticness\":0.123,\"danceability\":0.746,\"duration_ms\":190409,\"energy\":0.82,\"instrumentalness\":0.000831,\"key\":9,\"liveness\":0.196,\"loudness\":-3.224,\"mode\":0,\"speechiness\":0.12,\"tempo\":102.077,\"time_signature\":4,\"valence\":0.53,\"popularity\":28,\"genre\":\"electronic\"},{\"index\":41588,\"artist_name\":\"WATCH THE DUCK\",\"track_id\":\"5Q4DRk7QwjJjqsUPBosT14\",\"track_name\":\"Feel This Love\",\"acousticness\":0.00695,\"danceability\":0.682,\"duration_ms\":248881,\"energy\":0.674,\"instrumentalness\":0.0,\"key\":7,\"liveness\":0.237,\"loudness\":-6.246,\"mode\":1,\"speechiness\":0.05,\"tempo\":100.005,\"time_signature\":4,\"valence\":0.37,\"popularity\":23,\"genre\":\"electronic\"},{\"index\":46671,\"artist_name\":\"Luca Lush\",\"track_id\":\"7bU7vF1rIVDnN43TFpYsb3\",\"track_name\":\"Sasha\",\"acousticness\":0.0164,\"danceability\":0.592,\"duration_ms\":215686,\"energy\":0.73,\"instrumentalness\":0.0,\"key\":9,\"liveness\":0.064,\"loudness\":-6.341,\"mode\":1,\"speechiness\":0.0352,\"tempo\":102.025,\"time_signature\":4,\"valence\":0.16,\"popularity\":23,\"genre\":\"electronic\"},{\"index\":28682,\"artist_name\":\"The Knocks\",\"track_id\":\"4wWqsVKREjScKuLQlgdsU5\",\"track_name\":\"Brazilian Soul (feat. Sofi Tukker)\",\"acousticness\":0.0573,\"danceability\":0.653,\"duration_ms\":197373,\"energy\":0.68,\"instrumentalness\":0.00000228,\"key\":1,\"liveness\":0.0683,\"loudness\":-5.351,\"mode\":1,\"speechiness\":0.0885,\"tempo\":99.023,\"time_signature\":4,\"valence\":0.541,\"popularity\":23,\"genre\":\"electronic\"},{\"index\":52515,\"artist_name\":\"Gill Chang\",\"track_id\":\"3WyinjQMMov5ivPGz8flit\",\"track_name\":\"Golden\",\"acousticness\":0.355,\"danceability\":0.81,\"duration_ms\":180402,\"energy\":0.756,\"instrumentalness\":0.0,\"key\":5,\"liveness\":0.0933,\"loudness\":-3.625,\"mode\":1,\"speechiness\":0.126,\"tempo\":100.014,\"time_signature\":4,\"valence\":0.29,\"popularity\":23,\"genre\":\"electronic\"},{\"index\":84294,\"artist_name\":\"Bass Physics\",\"track_id\":\"1yCb0FSeO48efDRg80Turo\",\"track_name\":\"Self Equity\",\"acousticness\":0.0445,\"danceability\":0.631,\"duration_ms\":230252,\"energy\":0.847,\"instrumentalness\":0.000132,\"key\":6,\"liveness\":0.0412,\"loudness\":-7.904,\"mode\":0,\"speechiness\":0.128,\"tempo\":100.108,\"time_signature\":4,\"valence\":0.45,\"popularity\":29,\"genre\":\"electronic\"},{\"index\":64733,\"artist_name\":\"Paper Diamond\",\"track_id\":\"3Gr4SKiX1LeaGYk8cKOBqZ\",\"track_name\":\"Bass Real Big\",\"acousticness\":0.0121,\"danceability\":0.838,\"duration_ms\":184800,\"energy\":0.729,\"instrumentalness\":0.788,\"key\":4,\"liveness\":0.315,\"loudness\":-6.773,\"mode\":0,\"speechiness\":0.116,\"tempo\":100.012,\"time_signature\":4,\"valence\":0.669,\"popularity\":22,\"genre\":\"electronic\"},{\"index\":41778,\"artist_name\":\"POLI\\u00c7A\",\"track_id\":\"0UkB0ISxcNoOnEh5sUMD1g\",\"track_name\":\"Agree\",\"acousticness\":0.736,\"danceability\":0.586,\"duration_ms\":201747,\"energy\":0.621,\"instrumentalness\":0.000382,\"key\":9,\"liveness\":0.15,\"loudness\":-8.082,\"mode\":0,\"speechiness\":0.0307,\"tempo\":102.989,\"time_signature\":4,\"valence\":0.456,\"popularity\":23,\"genre\":\"electronic\"},{\"index\":46024,\"artist_name\":\"Ark Patrol\",\"track_id\":\"17oh0J6G4C0iLDaj0bbPOx\",\"track_name\":\"Myrmidon\",\"acousticness\":0.675,\"danceability\":0.691,\"duration_ms\":216970,\"energy\":0.545,\"instrumentalness\":0.0712,\"key\":8,\"liveness\":0.11,\"loudness\":-8.116,\"mode\":1,\"speechiness\":0.0957,\"tempo\":98.955,\"time_signature\":4,\"valence\":0.069,\"popularity\":29,\"genre\":\"electronic\"},{\"index\":95449,\"artist_name\":\"M-BAND\",\"track_id\":\"2UO7i8ptQ5E1lgGbFxNbSh\",\"track_name\":\"\\u041d\\u0438\\u0442\\u043e\\u0447\\u043a\\u0430\",\"acousticness\":0.118,\"danceability\":0.542,\"duration_ms\":264402,\"energy\":0.848,\"instrumentalness\":0.0,\"key\":1,\"liveness\":0.105,\"loudness\":-3.361,\"mode\":0,\"speechiness\":0.0299,\"tempo\":99.99,\"time_signature\":4,\"valence\":0.35,\"popularity\":22,\"genre\":\"electronic\"},{\"index\":34587,\"artist_name\":\"Thomas Barrandon\",\"track_id\":\"7z83mCgcT9DvPAXHJie0BL\",\"track_name\":\"Over the Wall\",\"acousticness\":0.0128,\"danceability\":0.49,\"duration_ms\":276453,\"energy\":0.802,\"instrumentalness\":0.916,\"key\":6,\"liveness\":0.0932,\"loudness\":-8.462,\"mode\":1,\"speechiness\":0.0451,\"tempo\":104.493,\"time_signature\":4,\"valence\":0.0887,\"popularity\":25,\"genre\":\"electronic\"},{\"index\":78691,\"artist_name\":\"Heiakim\",\"track_id\":\"3xXgNDwVYQVjp0ZH94zIX8\",\"track_name\":\"Ice Coffee\",\"acousticness\":0.0652,\"danceability\":0.783,\"duration_ms\":171429,\"energy\":0.845,\"instrumentalness\":0.81,\"key\":6,\"liveness\":0.117,\"loudness\":-3.07,\"mode\":1,\"speechiness\":0.0513,\"tempo\":104.952,\"time_signature\":4,\"valence\":0.846,\"popularity\":25,\"genre\":\"electronic\"},{\"index\":15339,\"artist_name\":\"DJDS\",\"track_id\":\"7hBDQYgt5dqlXlVhTLWj9y\",\"track_name\":\"I Heard (ft. The-Dream and Vory)\",\"acousticness\":0.0245,\"danceability\":0.541,\"duration_ms\":204382,\"energy\":0.669,\"instrumentalness\":0.0000298,\"key\":7,\"liveness\":0.527,\"loudness\":-4.944,\"mode\":1,\"speechiness\":0.0639,\"tempo\":103.761,\"time_signature\":4,\"valence\":0.151,\"popularity\":30,\"genre\":\"electronic\"},{\"index\":52513,\"artist_name\":\"Gill Chang\",\"track_id\":\"55994McPRcFDO6abdPxu4B\",\"track_name\":\"What We Had\",\"acousticness\":0.708,\"danceability\":0.773,\"duration_ms\":181629,\"energy\":0.712,\"instrumentalness\":0.00661,\"key\":5,\"liveness\":0.133,\"loudness\":-1.765,\"mode\":1,\"speechiness\":0.0299,\"tempo\":99.971,\"time_signature\":4,\"valence\":0.419,\"popularity\":29,\"genre\":\"electronic\"},{\"index\":17389,\"artist_name\":\"DallasK\",\"track_id\":\"5VV0Zr7pUqCRjKLTBNtfuG\",\"track_name\":\"Recover\",\"acousticness\":0.0516,\"danceability\":0.638,\"duration_ms\":195774,\"energy\":0.819,\"instrumentalness\":0.0,\"key\":10,\"liveness\":0.0571,\"loudness\":-5.574,\"mode\":0,\"speechiness\":0.325,\"tempo\":102.021,\"time_signature\":4,\"valence\":0.54,\"popularity\":31,\"genre\":\"electronic\"},{\"index\":30313,\"artist_name\":\"BoTalks\",\"track_id\":\"42fH74Hpl87RtckErSASCP\",\"track_name\":\"Weekend\",\"acousticness\":0.0597,\"danceability\":0.647,\"duration_ms\":206471,\"energy\":0.788,\"instrumentalness\":0.0,\"key\":0,\"liveness\":0.247,\"loudness\":-5.936,\"mode\":1,\"speechiness\":0.0617,\"tempo\":102.081,\"time_signature\":4,\"valence\":0.607,\"popularity\":31,\"genre\":\"electronic\"}]\n"
          ],
          "name": "stdout"
        }
      ]
    }
  ]
}